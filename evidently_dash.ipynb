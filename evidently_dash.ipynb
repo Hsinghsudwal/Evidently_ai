{
 "cells": [
  {
   "cell_type": "markdown",
   "id": "2b1f49f7-f010-4b30-97bb-2fa15211355b",
   "metadata": {},
   "source": [
    "Complete Guide to Effortless ML Monitoring with Evidently.ai"
   ]
  },
  {
   "cell_type": "markdown",
   "id": "8031dd7e-4376-49d3-af53-07312d19e05b",
   "metadata": {},
   "source": [
    "# ML Monitoring Dashboard"
   ]
  },
  {
   "cell_type": "code",
   "execution_count": 1,
   "id": "7fbbe3b5-176c-4f78-a5b3-bc557203566f",
   "metadata": {
    "tags": []
   },
   "outputs": [
    {
     "name": "stdout",
     "output_type": "stream",
     "text": [
      "Requirement already satisfied: evidently in c:\\users\\sudwa\\anaconda3\\lib\\site-packages (0.4.17)\n",
      "Requirement already satisfied: plotly>=5.10.0 in c:\\users\\sudwa\\anaconda3\\lib\\site-packages (from evidently) (5.20.0)\n",
      "Requirement already satisfied: statsmodels>=0.12.2 in c:\\users\\sudwa\\anaconda3\\lib\\site-packages (from evidently) (0.14.0)\n",
      "Requirement already satisfied: scikit-learn>=1.0.1 in c:\\users\\sudwa\\anaconda3\\lib\\site-packages (from evidently) (1.2.2)\n",
      "Requirement already satisfied: pandas>=1.3.5 in c:\\users\\sudwa\\anaconda3\\lib\\site-packages (from pandas[parquet]>=1.3.5->evidently) (2.0.3)\n",
      "Requirement already satisfied: numpy>=1.22.0 in c:\\users\\sudwa\\anaconda3\\lib\\site-packages (from evidently) (1.24.3)\n",
      "Requirement already satisfied: nltk>=3.6.7 in c:\\users\\sudwa\\anaconda3\\lib\\site-packages (from evidently) (3.8.1)\n",
      "Requirement already satisfied: scipy>=1.10.0 in c:\\users\\sudwa\\anaconda3\\lib\\site-packages (from evidently) (1.11.1)\n",
      "Requirement already satisfied: requests>=2.31.0 in c:\\users\\sudwa\\anaconda3\\lib\\site-packages (from evidently) (2.31.0)\n",
      "Requirement already satisfied: PyYAML>=5.4 in c:\\users\\sudwa\\anaconda3\\lib\\site-packages (from evidently) (6.0)\n",
      "Requirement already satisfied: pydantic>=1.10.14 in c:\\users\\sudwa\\anaconda3\\lib\\site-packages (from evidently) (2.6.4)\n",
      "Requirement already satisfied: litestar>=2.6.3 in c:\\users\\sudwa\\anaconda3\\lib\\site-packages (from evidently) (2.7.0)\n",
      "Requirement already satisfied: typing-inspect>=0.9.0 in c:\\users\\sudwa\\anaconda3\\lib\\site-packages (from evidently) (0.9.0)\n",
      "Requirement already satisfied: uvicorn>=0.22.0 in c:\\users\\sudwa\\anaconda3\\lib\\site-packages (from evidently) (0.29.0)\n",
      "Requirement already satisfied: watchdog>=3 in c:\\users\\sudwa\\anaconda3\\lib\\site-packages (from evidently) (4.0.0)\n",
      "Requirement already satisfied: typer>=0.3 in c:\\users\\sudwa\\appdata\\roaming\\python\\python311\\site-packages (from evidently) (0.9.0)\n",
      "Requirement already satisfied: rich>=13 in c:\\users\\sudwa\\appdata\\roaming\\python\\python311\\site-packages (from evidently) (13.4.2)\n",
      "Requirement already satisfied: iterative-telemetry>=0.0.5 in c:\\users\\sudwa\\appdata\\roaming\\python\\python311\\site-packages (from evidently) (0.0.8)\n",
      "Requirement already satisfied: dynaconf>=3.2.4 in c:\\users\\sudwa\\anaconda3\\lib\\site-packages (from evidently) (3.2.5)\n",
      "Requirement already satisfied: certifi>=2023.07.22 in c:\\users\\sudwa\\anaconda3\\lib\\site-packages (from evidently) (2024.2.2)\n",
      "Requirement already satisfied: urllib3>=1.26.18 in c:\\users\\sudwa\\anaconda3\\lib\\site-packages (from evidently) (2.2.1)\n",
      "Requirement already satisfied: fsspec>=2024.2.0 in c:\\users\\sudwa\\anaconda3\\lib\\site-packages (from evidently) (2024.3.1)\n",
      "Requirement already satisfied: appdirs in c:\\users\\sudwa\\appdata\\roaming\\python\\python311\\site-packages (from iterative-telemetry>=0.0.5->evidently) (1.4.4)\n",
      "Requirement already satisfied: filelock in c:\\users\\sudwa\\appdata\\roaming\\python\\python311\\site-packages (from iterative-telemetry>=0.0.5->evidently) (3.13.1)\n",
      "Requirement already satisfied: distro in c:\\users\\sudwa\\appdata\\roaming\\python\\python311\\site-packages (from iterative-telemetry>=0.0.5->evidently) (1.9.0)\n",
      "Requirement already satisfied: anyio>=3 in c:\\users\\sudwa\\appdata\\roaming\\python\\python311\\site-packages (from litestar>=2.6.3->evidently) (3.6.2)\n",
      "Requirement already satisfied: click in c:\\users\\sudwa\\anaconda3\\lib\\site-packages (from litestar>=2.6.3->evidently) (8.1.7)\n",
      "Requirement already satisfied: httpx>=0.22 in c:\\users\\sudwa\\anaconda3\\lib\\site-packages (from litestar>=2.6.3->evidently) (0.27.0)\n",
      "Requirement already satisfied: msgspec>=0.18.2 in c:\\users\\sudwa\\anaconda3\\lib\\site-packages (from litestar>=2.6.3->evidently) (0.18.6)\n",
      "Requirement already satisfied: multidict>=6.0.2 in c:\\users\\sudwa\\anaconda3\\lib\\site-packages (from litestar>=2.6.3->evidently) (6.0.2)\n",
      "Requirement already satisfied: polyfactory>=2.6.3 in c:\\users\\sudwa\\anaconda3\\lib\\site-packages (from litestar>=2.6.3->evidently) (2.15.0)\n",
      "Requirement already satisfied: rich-click in c:\\users\\sudwa\\anaconda3\\lib\\site-packages (from litestar>=2.6.3->evidently) (1.7.4)\n",
      "Requirement already satisfied: typing-extensions in c:\\users\\sudwa\\anaconda3\\lib\\site-packages (from litestar>=2.6.3->evidently) (4.7.1)\n",
      "Requirement already satisfied: joblib in c:\\users\\sudwa\\anaconda3\\lib\\site-packages (from nltk>=3.6.7->evidently) (1.2.0)\n",
      "Requirement already satisfied: regex>=2021.8.3 in c:\\users\\sudwa\\anaconda3\\lib\\site-packages (from nltk>=3.6.7->evidently) (2022.7.9)\n",
      "Requirement already satisfied: tqdm in c:\\users\\sudwa\\anaconda3\\lib\\site-packages (from nltk>=3.6.7->evidently) (4.65.0)\n",
      "Requirement already satisfied: python-dateutil>=2.8.2 in c:\\users\\sudwa\\anaconda3\\lib\\site-packages (from pandas>=1.3.5->pandas[parquet]>=1.3.5->evidently) (2.8.2)\n",
      "Requirement already satisfied: pytz>=2020.1 in c:\\users\\sudwa\\anaconda3\\lib\\site-packages (from pandas>=1.3.5->pandas[parquet]>=1.3.5->evidently) (2023.3.post1)\n",
      "Requirement already satisfied: tzdata>=2022.1 in c:\\users\\sudwa\\appdata\\roaming\\python\\python311\\site-packages (from pandas>=1.3.5->pandas[parquet]>=1.3.5->evidently) (2023.3)\n",
      "Requirement already satisfied: pyarrow>=7.0.0 in c:\\users\\sudwa\\anaconda3\\lib\\site-packages (from pandas[parquet]>=1.3.5->evidently) (11.0.0)\n",
      "Requirement already satisfied: tenacity>=6.2.0 in c:\\users\\sudwa\\anaconda3\\lib\\site-packages (from plotly>=5.10.0->evidently) (8.2.2)\n",
      "Requirement already satisfied: packaging in c:\\users\\sudwa\\anaconda3\\lib\\site-packages (from plotly>=5.10.0->evidently) (23.1)\n",
      "Requirement already satisfied: annotated-types>=0.4.0 in c:\\users\\sudwa\\appdata\\roaming\\python\\python311\\site-packages (from pydantic>=1.10.14->evidently) (0.5.0)\n",
      "Requirement already satisfied: pydantic-core==2.16.3 in c:\\users\\sudwa\\anaconda3\\lib\\site-packages (from pydantic>=1.10.14->evidently) (2.16.3)\n",
      "Requirement already satisfied: charset-normalizer<4,>=2 in c:\\users\\sudwa\\anaconda3\\lib\\site-packages (from requests>=2.31.0->evidently) (2.0.4)\n",
      "Requirement already satisfied: idna<4,>=2.5 in c:\\users\\sudwa\\anaconda3\\lib\\site-packages (from requests>=2.31.0->evidently) (3.4)\n",
      "Requirement already satisfied: markdown-it-py>=2.2.0 in c:\\users\\sudwa\\anaconda3\\lib\\site-packages (from rich>=13->evidently) (2.2.0)\n",
      "Requirement already satisfied: pygments<3.0.0,>=2.13.0 in c:\\users\\sudwa\\appdata\\roaming\\python\\python311\\site-packages (from rich>=13->evidently) (2.15.1)\n",
      "Requirement already satisfied: threadpoolctl>=2.0.0 in c:\\users\\sudwa\\anaconda3\\lib\\site-packages (from scikit-learn>=1.0.1->evidently) (2.2.0)\n",
      "Requirement already satisfied: patsy>=0.5.2 in c:\\users\\sudwa\\anaconda3\\lib\\site-packages (from statsmodels>=0.12.2->evidently) (0.5.3)\n",
      "Requirement already satisfied: mypy-extensions>=0.3.0 in c:\\users\\sudwa\\anaconda3\\lib\\site-packages (from typing-inspect>=0.9.0->evidently) (1.0.0)\n",
      "Requirement already satisfied: h11>=0.8 in c:\\users\\sudwa\\anaconda3\\lib\\site-packages (from uvicorn>=0.22.0->evidently) (0.14.0)\n",
      "Requirement already satisfied: sniffio>=1.1 in c:\\users\\sudwa\\appdata\\roaming\\python\\python311\\site-packages (from anyio>=3->litestar>=2.6.3->evidently) (1.3.0)\n",
      "Requirement already satisfied: colorama in c:\\users\\sudwa\\anaconda3\\lib\\site-packages (from click->litestar>=2.6.3->evidently) (0.4.6)\n",
      "Requirement already satisfied: httpcore==1.* in c:\\users\\sudwa\\anaconda3\\lib\\site-packages (from httpx>=0.22->litestar>=2.6.3->evidently) (1.0.4)\n",
      "Requirement already satisfied: mdurl~=0.1 in c:\\users\\sudwa\\anaconda3\\lib\\site-packages (from markdown-it-py>=2.2.0->rich>=13->evidently) (0.1.0)\n",
      "Requirement already satisfied: six in c:\\users\\sudwa\\anaconda3\\lib\\site-packages (from patsy>=0.5.2->statsmodels>=0.12.2->evidently) (1.16.0)\n",
      "Requirement already satisfied: faker in c:\\users\\sudwa\\anaconda3\\lib\\site-packages (from polyfactory>=2.6.3->litestar>=2.6.3->evidently) (24.4.0)\n"
     ]
    }
   ],
   "source": [
    "!pip install evidently"
   ]
  },
  {
   "cell_type": "code",
   "execution_count": 1,
   "id": "22caca2a-e040-4258-8fbd-faf2accdee37",
   "metadata": {},
   "outputs": [],
   "source": [
    "#Step 1: Import All Necessary Libraries\n",
    "# Importing necessary modules from Evidently\n",
    "from evidently.report import Report\n",
    "from evidently.metrics import ColumnDriftMetric, DatasetDriftMetric\n",
    "from evidently.test_suite import TestSuite\n",
    "from evidently.test_preset import DataQualityTestPreset\n",
    "from evidently.ui.dashboards import CounterAgg, DashboardPanelCounter, DashboardPanelPlot, PanelValue, PlotType, ReportFilter, DashboardPanelTestSuite, TestFilter, TestSuitePanelType\n",
    "from evidently.renderers.html_widgets import WidgetSize\n",
    "from evidently.metric_preset import DataQualityPreset, TargetDriftPreset\n",
    "from evidently.ui.workspace import Workspace, WorkspaceBase\n",
    "import pandas as pd"
   ]
  },
  {
   "cell_type": "code",
   "execution_count": 3,
   "id": "909183e4-dea4-4d5f-8913-41af708e9c10",
   "metadata": {},
   "outputs": [
    {
     "ename": "NameError",
     "evalue": "name 'pd' is not defined",
     "output_type": "error",
     "traceback": [
      "\u001b[1;31m---------------------------------------------------------------------------\u001b[0m",
      "\u001b[1;31mNameError\u001b[0m                                 Traceback (most recent call last)",
      "Cell \u001b[1;32mIn[3], line 3\u001b[0m\n\u001b[0;32m      1\u001b[0m \u001b[38;5;66;03m#Step 2: Load the Dataset\u001b[39;00m\n\u001b[0;32m      2\u001b[0m \u001b[38;5;66;03m# Loading the dataset\u001b[39;00m\n\u001b[1;32m----> 3\u001b[0m df\u001b[38;5;241m=\u001b[39m\u001b[43mpd\u001b[49m\u001b[38;5;241m.\u001b[39mread_csv(\u001b[38;5;124m\"\u001b[39m\u001b[38;5;124mDelayedFlights.csv\u001b[39m\u001b[38;5;124m\"\u001b[39m)\n",
      "\u001b[1;31mNameError\u001b[0m: name 'pd' is not defined"
     ]
    }
   ],
   "source": [
    "#Step 2: Load the Dataset\n",
    "# Loading the dataset\n",
    "df=pd.read_csv(\"DelayedFlights.csv\")"
   ]
  },
  {
   "cell_type": "code",
   "execution_count": null,
   "id": "bbb1af33-b341-4519-b564-67f1cf272da2",
   "metadata": {},
   "outputs": [],
   "source": [
    "# Step 3: Define Reference Data and Production Simulation Data\n",
    "# Defining reference data and production simulation data\n",
    "reference_data = df[5:7]\n",
    "prod_simulation_data = df[7:]\n",
    "batch_size = 2"
   ]
  },
  {
   "cell_type": "code",
   "execution_count": null,
   "id": "8a6bc5e5-01db-4b3a-97c0-200192a5d0a0",
   "metadata": {},
   "outputs": [],
   "source": [
    "# Step 4: Define Workspace and Project Details\n",
    "# Defining workspace and project details\n",
    "WORKSPACE = \"Guide\"\n",
    "YOUR_PROJECT_NAME = \"Evidently Dash\"\n",
    "YOUR_PROJECT_DESCRIPTION = \"Learn how to create Evidently Dashboards\""
   ]
  },
  {
   "cell_type": "code",
   "execution_count": null,
   "id": "238f30eb-5770-41bb-b4b4-f73877c9d3a1",
   "metadata": {},
   "outputs": [],
   "source": [
    "# Step 5: Create Data Quality Test Suite\n",
    "# Function to create data quality test suite\n",
    "def create_data_quality_test_suite(i: int):\n",
    "    suite = TestSuite(\n",
    "        tests=[\n",
    "            DataQualityTestPreset(),\n",
    "        ],\n",
    "        timestamp=datetime.datetime.now() + datetime.timedelta(days=i),\n",
    "        tags = []\n",
    "    )\n",
    "\n",
    "    suite.run(reference_data=reference_data, current_data=prod_simulation_data[i * batch_size : (i + 1) * batch_size])\n",
    "    return suite"
   ]
  },
  {
   "cell_type": "code",
   "execution_count": null,
   "id": "163a4eca-03de-4c69-846a-51933225f3b8",
   "metadata": {},
   "outputs": [],
   "source": [
    "# Step 6: Create a Data Quality Report\n",
    "# Function to create data quality report\n",
    "def create_data_quality_report(i: int):\n",
    "    report = Report(\n",
    "        metrics=[\n",
    "            DataQualityPreset(), ColumnDriftMetric(column_name=\"ArrDelay\"),\n",
    "        ],\n",
    "        timestamp=datetime.datetime.now() + datetime.timedelta(days=i),\n",
    "    )\n",
    "\n",
    "    report.run(reference_data=reference_data, current_data=prod_simulation_data[i * batch_size : (i + 1) * batch_size])\n",
    "    return report"
   ]
  },
  {
   "cell_type": "code",
   "execution_count": null,
   "id": "18c4f9a1-509d-4987-8d69-205236f4dd6e",
   "metadata": {},
   "outputs": [],
   "source": [
    "# Step 7: Create a Project\n",
    "# Function to create project\n",
    "def create_project(workspace: WorkspaceBase):\n",
    "    project = workspace.create_project(YOUR_PROJECT_NAME)\n",
    "    project.description = YOUR_PROJECT_DESCRIPTION\n",
    "\n",
    "    # Adding panels to the dashboard\n",
    "    project.dashboard.add_panel(\n",
    "        DashboardPanelCounter(\n",
    "            filter=ReportFilter(metadata_values={}, tag_values=[]),\n",
    "            agg=CounterAgg.NONE,\n",
    "            title=\"Bank Marketing Dataset\",\n",
    "        )\n",
    "    )\n",
    "     project.dashboard.add_panel(\n",
    "        DashboardPanelPlot(\n",
    "            title=\"Target Drift\",\n",
    "            filter=ReportFilter(metadata_values={}, tag_values=[]),\n",
    "            values=[\n",
    "                PanelValue(\n",
    "                    metric_id=\"ColumnDriftMetric\",\n",
    "                    metric_args={\"column_name.name\": \"ArrDelay\"},\n",
    "                    field_path=ColumnDriftMetric.fields.drift_score,\n",
    "                    legend=\"target: ArrDelay\",\n",
    "                ),\n",
    "            ],\n",
    "            plot_type=PlotType.LINE,\n",
    "            size=WidgetSize.HALF\n",
    "        )\n",
    "    )\n",
    "    # Adding test suites to the dashboard\n",
    "    project.dashboard.add_panel(\n",
    "        DashboardPanelTestSuite(\n",
    "            title=\"All tests: aggregated\",\n",
    "            filter=ReportFilter(metadata_values={}, tag_values=[], include_test_suites=True),\n",
    "            size=WidgetSize.HALF,\n",
    "            time_agg=\"1M\",\n",
    "        )\n",
    "    )\n",
    "\n",
    "    project.dashboard.add_panel(\n",
    "        DashboardPanelTestSuite(\n",
    "            title=\"All tests: detailed\",\n",
    "            filter=ReportFilter(metadata_values={}, tag_values=[], include_test_suites=True),\n",
    "            size=WidgetSize.HALF,\n",
    "            panel_type=TestSuitePanelType.DETAILED,\n",
    "            time_agg=\"1D\",\n",
    "        )\n",
    "    )\n",
    "\n",
    "    # Saving the project\n",
    "    project.save()\n",
    "    return project    \n",
    "    \n"
   ]
  },
  {
   "cell_type": "code",
   "execution_count": null,
   "id": "b48352e0-958f-42a1-8e64-896ee715670e",
   "metadata": {},
   "outputs": [],
   "source": [
    "# Step 8: Create a Workspace and Add Reports to the Workspace\n",
    "# Function to create demo project\n",
    "def create_demo_project(workspace: str):\n",
    "    ws = Workspace.create(workspace)\n",
    "    project = create_project(ws)\n",
    "\n",
    "    # Adding reports to the workspace\n",
    "    for i in range(0, 2):\n",
    "        report = create_data_quality_report(i=i)\n",
    "        ws.add_report(project.id, report)\n",
    "        suite = create_data_quality_test_suite(i=i)\n",
    "        ws.add_report(project.id, suite)"
   ]
  },
  {
   "cell_type": "code",
   "execution_count": null,
   "id": "f36ce8ca-ef50-4f25-9020-41092277ce5f",
   "metadata": {},
   "outputs": [],
   "source": [
    "# Step 9: Call the Main Function\n",
    "# Main function\n",
    "if __name__ == \"__main__\":\n",
    "    create_demo_project(WORKSPACE)"
   ]
  },
  {
   "cell_type": "code",
   "execution_count": null,
   "id": "40547822-df67-4792-9ad9-e49a42ff831a",
   "metadata": {},
   "outputs": [],
   "source": []
  },
  {
   "cell_type": "code",
   "execution_count": null,
   "id": "23f1f340-042a-4d9d-bf67-3db2772f75d3",
   "metadata": {},
   "outputs": [],
   "source": []
  },
  {
   "cell_type": "code",
   "execution_count": null,
   "id": "0cdea52c-1fb4-4155-bb4d-b32abf7043e3",
   "metadata": {},
   "outputs": [],
   "source": []
  },
  {
   "cell_type": "code",
   "execution_count": null,
   "id": "6ea3c116-92bb-40fc-834c-8b01f43e3548",
   "metadata": {},
   "outputs": [],
   "source": []
  },
  {
   "cell_type": "code",
   "execution_count": null,
   "id": "a0c08f7c-8505-4417-a34f-bdb3c0c74711",
   "metadata": {},
   "outputs": [],
   "source": []
  },
  {
   "cell_type": "code",
   "execution_count": null,
   "id": "26ca8a09-af25-465b-84e2-1db0d06ff0a1",
   "metadata": {},
   "outputs": [],
   "source": []
  },
  {
   "cell_type": "code",
   "execution_count": null,
   "id": "5ed51f0a-a2d6-4df5-8a2b-5510b4252162",
   "metadata": {},
   "outputs": [],
   "source": []
  },
  {
   "cell_type": "code",
   "execution_count": null,
   "id": "bfeb4ece-96a9-4ea8-85fc-2519faa37cca",
   "metadata": {},
   "outputs": [],
   "source": []
  },
  {
   "cell_type": "code",
   "execution_count": null,
   "id": "062e3896-1d7e-44f3-af29-8791c249c1e9",
   "metadata": {},
   "outputs": [],
   "source": []
  },
  {
   "cell_type": "code",
   "execution_count": null,
   "id": "66009e20-8ba5-44e8-8f5e-614d8bf729aa",
   "metadata": {},
   "outputs": [],
   "source": []
  },
  {
   "cell_type": "code",
   "execution_count": null,
   "id": "a0fd01f7-c092-4b77-afca-e85f6a25eeba",
   "metadata": {},
   "outputs": [],
   "source": []
  },
  {
   "cell_type": "code",
   "execution_count": null,
   "id": "26671fbd-f564-44fa-a770-dc367ce94506",
   "metadata": {},
   "outputs": [],
   "source": []
  },
  {
   "cell_type": "code",
   "execution_count": null,
   "id": "15a4b465-192b-4efa-8f53-fb43a7bc8f6e",
   "metadata": {},
   "outputs": [],
   "source": []
  },
  {
   "cell_type": "code",
   "execution_count": null,
   "id": "b7bbbecc-4dce-48a3-960e-bf03e6a8f42f",
   "metadata": {},
   "outputs": [],
   "source": []
  },
  {
   "cell_type": "code",
   "execution_count": null,
   "id": "0d86f2d6-1454-442f-8df2-e9b2f3f817c7",
   "metadata": {},
   "outputs": [],
   "source": []
  }
 ],
 "metadata": {
  "kernelspec": {
   "display_name": "Python 3 (ipykernel)",
   "language": "python",
   "name": "python3"
  },
  "language_info": {
   "codemirror_mode": {
    "name": "ipython",
    "version": 3
   },
   "file_extension": ".py",
   "mimetype": "text/x-python",
   "name": "python",
   "nbconvert_exporter": "python",
   "pygments_lexer": "ipython3",
   "version": "3.11.5"
  }
 },
 "nbformat": 4,
 "nbformat_minor": 5
}
